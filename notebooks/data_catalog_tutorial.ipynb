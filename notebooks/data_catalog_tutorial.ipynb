{
 "cells": [
  {
   "cell_type": "markdown",
   "metadata": {},
   "source": [
    "# Data Catalog Tutorial\n",
    "\n",
    "Learn how the `DataCatalog` in `trading_transformers` stages market data, why it can be preferable to bare `pandas` calls, and how derived indicators feed downstream models.\n"
   ],
   "id": "660f138c96fcf446"
  },
  {
   "cell_type": "markdown",
   "metadata": {},
   "source": [
    "## 1. Setup\n",
    "\n",
    "We will create a small synthetic OHLCV dataset and stage it through the catalog. Run the cells sequentially inside this notebook.\n"
   ],
   "id": "70566d5c6eb9763f"
  },
  {
   "metadata": {
    "ExecuteTime": {
     "end_time": "2025-09-26T19:54:45.627674Z",
     "start_time": "2025-09-26T19:54:45.406849Z"
    }
   },
   "cell_type": "code",
   "source": [
    "from pathlib import Path\n",
    "import json\n",
    "import logging\n",
    "\n",
    "import numpy as np\n",
    "import pandas as pd\n",
    "\n",
    "from trading_transformers.data import DataCatalog, DataSource\n",
    "from trading_transformers.features import ContinuousFeatureBuilder\n",
    "from trading_transformers.logging import configure_logging\n",
    "\n",
    "TUTORIAL_ROOT = Path('notebooks/_tmp/catalog_demo')\n",
    "DATA_DIR = TUTORIAL_ROOT / 'raw'\n",
    "CATALOG_PATH = TUTORIAL_ROOT / 'catalog.json'\n",
    "\n",
    "DATA_DIR.mkdir(parents=True, exist_ok=True)\n",
    "\n",
    "configure_logging(level=logging.DEBUG)\n"
   ],
   "id": "e45a1d1641af938a",
   "outputs": [],
   "execution_count": 1
  },
  {
   "metadata": {
    "ExecuteTime": {
     "end_time": "2025-09-26T19:54:45.632555Z",
     "start_time": "2025-09-26T19:54:45.631407Z"
    }
   },
   "cell_type": "code",
   "source": "",
   "id": "d72c2127dda24761",
   "outputs": [],
   "execution_count": null
  },
  {
   "cell_type": "markdown",
   "metadata": {},
   "source": [
    "## 2. Create a Sample CSV\n",
    "\n",
    "In real projects the CSV would come from your data lake. Here we synthesise a short price series for ETH/USDT and write it to disk.\n"
   ],
   "id": "74072ee9b558abb7"
  },
  {
   "cell_type": "code",
   "metadata": {
    "ExecuteTime": {
     "end_time": "2025-09-26T19:54:45.642879Z",
     "start_time": "2025-09-26T19:54:45.635548Z"
    }
   },
   "source": [
    "np.random.seed(7)\n",
    "rows = 200\n",
    "base_price = 1800.0\n",
    "changes = np.random.normal(0, 5, size=rows)\n",
    "prices = base_price + np.cumsum(changes)\n",
    "\n",
    "frame = pd.DataFrame({\n",
    "    'timestamp': pd.date_range('2024-01-01', periods=rows, freq='T'),\n",
    "    'open': prices,\n",
    "    'high': prices + np.random.uniform(0.5, 2.0, size=rows),\n",
    "    'low': prices - np.random.uniform(0.5, 2.0, size=rows),\n",
    "    'close': prices + np.random.uniform(-1.0, 1.0, size=rows),\n",
    "    'volume': np.random.uniform(10, 50, size=rows)\n",
    "})\n",
    "\n",
    "CSV_PATH = DATA_DIR / 'ethusdt_1min.csv'\n",
    "frame.to_csv(CSV_PATH, index=False)\n",
    "CSV_PATH\n"
   ],
   "id": "792c6e51289ee473",
   "outputs": [
    {
     "name": "stderr",
     "output_type": "stream",
     "text": [
      "/var/folders/r7/gpyw0j9j5bxfcmd8ydmr2j1w0000gn/T/ipykernel_65813/63157987.py:8: FutureWarning: 'T' is deprecated and will be removed in a future version, please use 'min' instead.\n",
      "  'timestamp': pd.date_range('2024-01-01', periods=rows, freq='T'),\n"
     ]
    },
    {
     "data": {
      "text/plain": [
       "PosixPath('notebooks/_tmp/catalog_demo/raw/ethusdt_1min.csv')"
      ]
     },
     "execution_count": 2,
     "metadata": {},
     "output_type": "execute_result"
    }
   ],
   "execution_count": 2
  },
  {
   "cell_type": "markdown",
   "metadata": {},
   "source": [
    "## 3. Plain `pandas` Loading\n",
    "\n",
    "A direct `pd.read_csv` works, but every script must repeat the same path, format arguments, and context.\n"
   ],
   "id": "8fa398d8d7066273"
  },
  {
   "cell_type": "code",
   "metadata": {
    "ExecuteTime": {
     "end_time": "2025-09-26T19:54:45.655178Z",
     "start_time": "2025-09-26T19:54:45.647020Z"
    }
   },
   "source": [
    "pd.read_csv(CSV_PATH, parse_dates=['timestamp']).head()\n"
   ],
   "id": "6ec1d6a1ae1ce8d",
   "outputs": [
    {
     "data": {
      "text/plain": [
       "            timestamp         open         high          low        close  \\\n",
       "0 2024-01-01 00:00:00  1808.452629  1809.850020  1807.173035  1808.272629   \n",
       "1 2024-01-01 00:01:00  1806.122942  1807.128493  1804.833548  1806.269206   \n",
       "2 2024-01-01 00:02:00  1806.287042  1808.264872  1805.236009  1805.781431   \n",
       "3 2024-01-01 00:03:00  1808.324624  1808.998195  1807.092296  1809.095090   \n",
       "4 2024-01-01 00:04:00  1804.380009  1804.958911  1802.401734  1804.773797   \n",
       "\n",
       "      volume  \n",
       "0  17.227607  \n",
       "1  27.385978  \n",
       "2  35.763478  \n",
       "3  48.403755  \n",
       "4  20.776147  "
      ],
      "text/html": [
       "<div>\n",
       "<style scoped>\n",
       "    .dataframe tbody tr th:only-of-type {\n",
       "        vertical-align: middle;\n",
       "    }\n",
       "\n",
       "    .dataframe tbody tr th {\n",
       "        vertical-align: top;\n",
       "    }\n",
       "\n",
       "    .dataframe thead th {\n",
       "        text-align: right;\n",
       "    }\n",
       "</style>\n",
       "<table border=\"1\" class=\"dataframe\">\n",
       "  <thead>\n",
       "    <tr style=\"text-align: right;\">\n",
       "      <th></th>\n",
       "      <th>timestamp</th>\n",
       "      <th>open</th>\n",
       "      <th>high</th>\n",
       "      <th>low</th>\n",
       "      <th>close</th>\n",
       "      <th>volume</th>\n",
       "    </tr>\n",
       "  </thead>\n",
       "  <tbody>\n",
       "    <tr>\n",
       "      <th>0</th>\n",
       "      <td>2024-01-01 00:00:00</td>\n",
       "      <td>1808.452629</td>\n",
       "      <td>1809.850020</td>\n",
       "      <td>1807.173035</td>\n",
       "      <td>1808.272629</td>\n",
       "      <td>17.227607</td>\n",
       "    </tr>\n",
       "    <tr>\n",
       "      <th>1</th>\n",
       "      <td>2024-01-01 00:01:00</td>\n",
       "      <td>1806.122942</td>\n",
       "      <td>1807.128493</td>\n",
       "      <td>1804.833548</td>\n",
       "      <td>1806.269206</td>\n",
       "      <td>27.385978</td>\n",
       "    </tr>\n",
       "    <tr>\n",
       "      <th>2</th>\n",
       "      <td>2024-01-01 00:02:00</td>\n",
       "      <td>1806.287042</td>\n",
       "      <td>1808.264872</td>\n",
       "      <td>1805.236009</td>\n",
       "      <td>1805.781431</td>\n",
       "      <td>35.763478</td>\n",
       "    </tr>\n",
       "    <tr>\n",
       "      <th>3</th>\n",
       "      <td>2024-01-01 00:03:00</td>\n",
       "      <td>1808.324624</td>\n",
       "      <td>1808.998195</td>\n",
       "      <td>1807.092296</td>\n",
       "      <td>1809.095090</td>\n",
       "      <td>48.403755</td>\n",
       "    </tr>\n",
       "    <tr>\n",
       "      <th>4</th>\n",
       "      <td>2024-01-01 00:04:00</td>\n",
       "      <td>1804.380009</td>\n",
       "      <td>1804.958911</td>\n",
       "      <td>1802.401734</td>\n",
       "      <td>1804.773797</td>\n",
       "      <td>20.776147</td>\n",
       "    </tr>\n",
       "  </tbody>\n",
       "</table>\n",
       "</div>"
      ]
     },
     "execution_count": 3,
     "metadata": {},
     "output_type": "execute_result"
    }
   ],
   "execution_count": 3
  },
  {
   "cell_type": "markdown",
   "metadata": {},
   "source": [
    "## 4. Register the Dataset with `DataCatalog`\n",
    "\n",
    "The catalog records:\n",
    "- a **logical name** (`ethusdt_1min`),\n",
    "- the **on-disk location**,\n",
    "- the **format** (CSV/Parquet),\n",
    "- optional metadata (frequency, tags).\n",
    "\n",
    "Once registered, other code loads by name instead of juggling file paths.\n"
   ],
   "id": "da0263867d86b382"
  },
  {
   "cell_type": "code",
   "metadata": {
    "ExecuteTime": {
     "end_time": "2025-09-26T19:54:45.683937Z",
     "start_time": "2025-09-26T19:54:45.681518Z"
    }
   },
   "source": [
    "catalog = DataCatalog(root=TUTORIAL_ROOT)\n",
    "catalog.register_source(DataSource(\n",
    "    name='ethusdt_1min',\n",
    "    path=CSV_PATH,\n",
    "    fmt='csv',\n",
    "    frequency='1min',\n",
    "    metadata={'asset': 'ETH/USDT'}\n",
    "))\n",
    "\n",
    "print('Sources:', catalog.list_sources())\n",
    "print('Catalog root:', catalog.root)\n",
    "print('Cache dir:', catalog.cache_dir)\n"
   ],
   "id": "c2a80d139f28548d",
   "outputs": [
    {
     "name": "stdout",
     "output_type": "stream",
     "text": [
      "Sources: ['ethusdt_1min']\n",
      "Catalog root: notebooks/_tmp/catalog_demo\n",
      "Cache dir: notebooks/_tmp/catalog_demo/.cache\n"
     ]
    }
   ],
   "execution_count": 4
  },
  {
   "cell_type": "markdown",
   "metadata": {},
   "source": [
    "### Why Prefer a Catalog?\n",
    "\n",
    "- **Single source of truth:** scripts, CLIs, and notebooks resolve dataset names consistently.\n",
    "- **Reproducibility:** the catalog can be committed to git, so experiments know exactly which files were used.\n",
    "- **Extensibility:** archives, checksums, and metadata live beside the registration.\n"
   ],
   "id": "7276f614d8e0da9"
  },
  {
   "cell_type": "markdown",
   "metadata": {},
   "source": [
    "### Persisting Catalog State\n",
    "\n",
    "The in-memory registry can be saved to JSON (`catalog.to_json`). This file holds the registered sources and archive definitions.\n"
   ],
   "id": "9153784252ebf99b"
  },
  {
   "cell_type": "code",
   "metadata": {
    "ExecuteTime": {
     "end_time": "2025-09-26T19:54:45.727600Z",
     "start_time": "2025-09-26T19:54:45.725097Z"
    }
   },
   "source": [
    "catalog.to_json(CATALOG_PATH)\n",
    "print(CATALOG_PATH)\n",
    "print(CATALOG_PATH.read_text())\n"
   ],
   "id": "e39ee1f25614cac5",
   "outputs": [
    {
     "name": "stdout",
     "output_type": "stream",
     "text": [
      "notebooks/_tmp/catalog_demo/catalog.json\n",
      "{\n",
      "  \"root\": \"notebooks/_tmp/catalog_demo\",\n",
      "  \"sources\": [\n",
      "    {\n",
      "      \"name\": \"ethusdt_1min\",\n",
      "      \"path\": \"notebooks/_tmp/catalog_demo/raw/ethusdt_1min.csv\",\n",
      "      \"fmt\": \"csv\",\n",
      "      \"frequency\": \"1min\",\n",
      "      \"metadata\": {\n",
      "        \"asset\": \"ETH/USDT\"\n",
      "      }\n",
      "    }\n",
      "  ],\n",
      "  \"archives\": []\n",
      "}\n"
     ]
    }
   ],
   "execution_count": 5
  },
  {
   "cell_type": "markdown",
   "metadata": {},
   "source": [
    "### Rehydrating a Catalog Elsewhere\n",
    "\n",
    "Any process can reconstruct the same catalog by loading the JSON file. Notice that relative paths are stored exactly as registered; keep the catalog near your data until rebasing support is added.\n"
   ],
   "id": "72f624507970c1f4"
  },
  {
   "cell_type": "code",
   "metadata": {
    "ExecuteTime": {
     "end_time": "2025-09-26T19:54:45.754761Z",
     "start_time": "2025-09-26T19:54:45.747940Z"
    }
   },
   "source": [
    "loaded_catalog = DataCatalog.from_json(CATALOG_PATH)\n",
    "loaded_frame = loaded_catalog.load('ethusdt_1min', parse_dates=['timestamp'])\n",
    "loaded_frame.head()\n"
   ],
   "id": "602b41ba02ffac9",
   "outputs": [
    {
     "data": {
      "text/plain": [
       "            timestamp         open         high          low        close  \\\n",
       "0 2024-01-01 00:00:00  1808.452629  1809.850020  1807.173035  1808.272629   \n",
       "1 2024-01-01 00:01:00  1806.122942  1807.128493  1804.833548  1806.269206   \n",
       "2 2024-01-01 00:02:00  1806.287042  1808.264872  1805.236009  1805.781431   \n",
       "3 2024-01-01 00:03:00  1808.324624  1808.998195  1807.092296  1809.095090   \n",
       "4 2024-01-01 00:04:00  1804.380009  1804.958911  1802.401734  1804.773797   \n",
       "\n",
       "      volume  \n",
       "0  17.227607  \n",
       "1  27.385978  \n",
       "2  35.763478  \n",
       "3  48.403755  \n",
       "4  20.776147  "
      ],
      "text/html": [
       "<div>\n",
       "<style scoped>\n",
       "    .dataframe tbody tr th:only-of-type {\n",
       "        vertical-align: middle;\n",
       "    }\n",
       "\n",
       "    .dataframe tbody tr th {\n",
       "        vertical-align: top;\n",
       "    }\n",
       "\n",
       "    .dataframe thead th {\n",
       "        text-align: right;\n",
       "    }\n",
       "</style>\n",
       "<table border=\"1\" class=\"dataframe\">\n",
       "  <thead>\n",
       "    <tr style=\"text-align: right;\">\n",
       "      <th></th>\n",
       "      <th>timestamp</th>\n",
       "      <th>open</th>\n",
       "      <th>high</th>\n",
       "      <th>low</th>\n",
       "      <th>close</th>\n",
       "      <th>volume</th>\n",
       "    </tr>\n",
       "  </thead>\n",
       "  <tbody>\n",
       "    <tr>\n",
       "      <th>0</th>\n",
       "      <td>2024-01-01 00:00:00</td>\n",
       "      <td>1808.452629</td>\n",
       "      <td>1809.850020</td>\n",
       "      <td>1807.173035</td>\n",
       "      <td>1808.272629</td>\n",
       "      <td>17.227607</td>\n",
       "    </tr>\n",
       "    <tr>\n",
       "      <th>1</th>\n",
       "      <td>2024-01-01 00:01:00</td>\n",
       "      <td>1806.122942</td>\n",
       "      <td>1807.128493</td>\n",
       "      <td>1804.833548</td>\n",
       "      <td>1806.269206</td>\n",
       "      <td>27.385978</td>\n",
       "    </tr>\n",
       "    <tr>\n",
       "      <th>2</th>\n",
       "      <td>2024-01-01 00:02:00</td>\n",
       "      <td>1806.287042</td>\n",
       "      <td>1808.264872</td>\n",
       "      <td>1805.236009</td>\n",
       "      <td>1805.781431</td>\n",
       "      <td>35.763478</td>\n",
       "    </tr>\n",
       "    <tr>\n",
       "      <th>3</th>\n",
       "      <td>2024-01-01 00:03:00</td>\n",
       "      <td>1808.324624</td>\n",
       "      <td>1808.998195</td>\n",
       "      <td>1807.092296</td>\n",
       "      <td>1809.095090</td>\n",
       "      <td>48.403755</td>\n",
       "    </tr>\n",
       "    <tr>\n",
       "      <th>4</th>\n",
       "      <td>2024-01-01 00:04:00</td>\n",
       "      <td>1804.380009</td>\n",
       "      <td>1804.958911</td>\n",
       "      <td>1802.401734</td>\n",
       "      <td>1804.773797</td>\n",
       "      <td>20.776147</td>\n",
       "    </tr>\n",
       "  </tbody>\n",
       "</table>\n",
       "</div>"
      ]
     },
     "execution_count": 6,
     "metadata": {},
     "output_type": "execute_result"
    }
   ],
   "execution_count": 6
  },
  {
   "cell_type": "markdown",
   "metadata": {},
   "source": [
    "## 5. Adding Indicators\n",
    "\n",
    "The catalog keeps raw datasets. Feature engineering happens downstream so different models can choose their own transformations. For this example we will:\n",
    "\n",
    "1. Load the frame from the catalog.\n",
    "2. Apply `ContinuousFeatureBuilder` to compute price-based indicators (returns, spreads, calendar features).\n",
    "3. Add a simple rolling mean indicator manually.\n"
   ],
   "id": "564813f93dfee240"
  },
  {
   "cell_type": "code",
   "metadata": {
    "ExecuteTime": {
     "end_time": "2025-09-26T19:54:45.793205Z",
     "start_time": "2025-09-26T19:54:45.782047Z"
    }
   },
   "source": [
    "builder = ContinuousFeatureBuilder()\n",
    "feature_frame = builder.transform(loaded_frame)\n",
    "feature_frame['sma_15'] = feature_frame['close'].rolling(15).mean()\n",
    "feature_frame[['timestamp', 'close', 'log_return', 'hl_range_pct', 'close_location', 'sma_15']].head(10)\n"
   ],
   "id": "fb2d314198aa9146",
   "outputs": [
    {
     "name": "stderr",
     "output_type": "stream",
     "text": [
      "2025-09-26 20:54:45 DEBUG [trading_transformers] Adding return features\n",
      "2025-09-26 20:54:45 DEBUG [trading_transformers] Adding range features\n",
      "2025-09-26 20:54:45 DEBUG [trading_transformers] Adding volume features\n",
      "2025-09-26 20:54:45 DEBUG [trading_transformers] Adding volatility features\n",
      "2025-09-26 20:54:45 DEBUG [trading_transformers] Adding calendar features\n"
     ]
    },
    {
     "data": {
      "text/plain": [
       "            timestamp        close  log_return  hl_range_pct  close_location  \\\n",
       "0 2024-01-01 00:00:00  1808.272629         NaN           NaN        0.410758   \n",
       "1 2024-01-01 00:01:00  1806.269206   -0.001109      0.001269        0.625574   \n",
       "2 2024-01-01 00:02:00  1805.781431   -0.000270      0.001677        0.180075   \n",
       "3 2024-01-01 00:03:00  1809.095090    0.001833      0.001055        1.050839   \n",
       "4 2024-01-01 00:04:00  1804.773797   -0.002392      0.001414        0.927610   \n",
       "5 2024-01-01 00:05:00  1803.713993   -0.000587      0.001815        0.305393   \n",
       "6 2024-01-01 00:06:00  1803.691084   -0.000013      0.001551        0.374125   \n",
       "7 2024-01-01 00:07:00  1794.736130   -0.004977      0.000958       -0.109660   \n",
       "8 2024-01-01 00:08:00  1800.843550    0.003397      0.001711        0.455654   \n",
       "9 2024-01-01 00:09:00  1803.077580    0.001240      0.001134        0.208145   \n",
       "\n",
       "   sma_15  \n",
       "0     NaN  \n",
       "1     NaN  \n",
       "2     NaN  \n",
       "3     NaN  \n",
       "4     NaN  \n",
       "5     NaN  \n",
       "6     NaN  \n",
       "7     NaN  \n",
       "8     NaN  \n",
       "9     NaN  "
      ],
      "text/html": [
       "<div>\n",
       "<style scoped>\n",
       "    .dataframe tbody tr th:only-of-type {\n",
       "        vertical-align: middle;\n",
       "    }\n",
       "\n",
       "    .dataframe tbody tr th {\n",
       "        vertical-align: top;\n",
       "    }\n",
       "\n",
       "    .dataframe thead th {\n",
       "        text-align: right;\n",
       "    }\n",
       "</style>\n",
       "<table border=\"1\" class=\"dataframe\">\n",
       "  <thead>\n",
       "    <tr style=\"text-align: right;\">\n",
       "      <th></th>\n",
       "      <th>timestamp</th>\n",
       "      <th>close</th>\n",
       "      <th>log_return</th>\n",
       "      <th>hl_range_pct</th>\n",
       "      <th>close_location</th>\n",
       "      <th>sma_15</th>\n",
       "    </tr>\n",
       "  </thead>\n",
       "  <tbody>\n",
       "    <tr>\n",
       "      <th>0</th>\n",
       "      <td>2024-01-01 00:00:00</td>\n",
       "      <td>1808.272629</td>\n",
       "      <td>NaN</td>\n",
       "      <td>NaN</td>\n",
       "      <td>0.410758</td>\n",
       "      <td>NaN</td>\n",
       "    </tr>\n",
       "    <tr>\n",
       "      <th>1</th>\n",
       "      <td>2024-01-01 00:01:00</td>\n",
       "      <td>1806.269206</td>\n",
       "      <td>-0.001109</td>\n",
       "      <td>0.001269</td>\n",
       "      <td>0.625574</td>\n",
       "      <td>NaN</td>\n",
       "    </tr>\n",
       "    <tr>\n",
       "      <th>2</th>\n",
       "      <td>2024-01-01 00:02:00</td>\n",
       "      <td>1805.781431</td>\n",
       "      <td>-0.000270</td>\n",
       "      <td>0.001677</td>\n",
       "      <td>0.180075</td>\n",
       "      <td>NaN</td>\n",
       "    </tr>\n",
       "    <tr>\n",
       "      <th>3</th>\n",
       "      <td>2024-01-01 00:03:00</td>\n",
       "      <td>1809.095090</td>\n",
       "      <td>0.001833</td>\n",
       "      <td>0.001055</td>\n",
       "      <td>1.050839</td>\n",
       "      <td>NaN</td>\n",
       "    </tr>\n",
       "    <tr>\n",
       "      <th>4</th>\n",
       "      <td>2024-01-01 00:04:00</td>\n",
       "      <td>1804.773797</td>\n",
       "      <td>-0.002392</td>\n",
       "      <td>0.001414</td>\n",
       "      <td>0.927610</td>\n",
       "      <td>NaN</td>\n",
       "    </tr>\n",
       "    <tr>\n",
       "      <th>5</th>\n",
       "      <td>2024-01-01 00:05:00</td>\n",
       "      <td>1803.713993</td>\n",
       "      <td>-0.000587</td>\n",
       "      <td>0.001815</td>\n",
       "      <td>0.305393</td>\n",
       "      <td>NaN</td>\n",
       "    </tr>\n",
       "    <tr>\n",
       "      <th>6</th>\n",
       "      <td>2024-01-01 00:06:00</td>\n",
       "      <td>1803.691084</td>\n",
       "      <td>-0.000013</td>\n",
       "      <td>0.001551</td>\n",
       "      <td>0.374125</td>\n",
       "      <td>NaN</td>\n",
       "    </tr>\n",
       "    <tr>\n",
       "      <th>7</th>\n",
       "      <td>2024-01-01 00:07:00</td>\n",
       "      <td>1794.736130</td>\n",
       "      <td>-0.004977</td>\n",
       "      <td>0.000958</td>\n",
       "      <td>-0.109660</td>\n",
       "      <td>NaN</td>\n",
       "    </tr>\n",
       "    <tr>\n",
       "      <th>8</th>\n",
       "      <td>2024-01-01 00:08:00</td>\n",
       "      <td>1800.843550</td>\n",
       "      <td>0.003397</td>\n",
       "      <td>0.001711</td>\n",
       "      <td>0.455654</td>\n",
       "      <td>NaN</td>\n",
       "    </tr>\n",
       "    <tr>\n",
       "      <th>9</th>\n",
       "      <td>2024-01-01 00:09:00</td>\n",
       "      <td>1803.077580</td>\n",
       "      <td>0.001240</td>\n",
       "      <td>0.001134</td>\n",
       "      <td>0.208145</td>\n",
       "      <td>NaN</td>\n",
       "    </tr>\n",
       "  </tbody>\n",
       "</table>\n",
       "</div>"
      ]
     },
     "execution_count": 7,
     "metadata": {},
     "output_type": "execute_result"
    }
   ],
   "execution_count": 7
  },
  {
   "cell_type": "markdown",
   "metadata": {},
   "source": [
    "### Optional Normalisation\n",
    "\n",
    "`ContinuousFeatureBuilder` leaves indicators in their native scales. When you need rolling z-scores (for example, to compare regime strength across assets), call `ContinuousFeatureBuilder.normalize` and pass the columns you want to scale.\n"
   ],
   "id": "2de3abd12d20f4ff"
  },
  {
   "cell_type": "code",
   "metadata": {
    "ExecuteTime": {
     "end_time": "2025-09-26T19:54:45.903001Z",
     "start_time": "2025-09-26T19:54:45.896779Z"
    }
   },
   "source": [
    "normalized = ContinuousFeatureBuilder.normalize(\n",
    "    feature_frame,\n",
    "    columns=['close_return', 'volume_change'],\n",
    "    window=32,\n",
    "    suffix='_z'\n",
    ")\n",
    "normalized[['close_return', 'close_return_z', 'volume_change', 'volume_change_z']].head(10)\n"
   ],
   "id": "5e851e14a0c02dd7",
   "outputs": [
    {
     "name": "stderr",
     "output_type": "stream",
     "text": [
      "2025-09-26 20:54:45 DEBUG [trading_transformers] Normalizing column close_return with window 32\n",
      "2025-09-26 20:54:45 DEBUG [trading_transformers] Normalizing column volume_change with window 32\n"
     ]
    },
    {
     "data": {
      "text/plain": [
       "   close_return  close_return_z  volume_change  volume_change_z\n",
       "0           NaN             NaN            NaN              NaN\n",
       "1     -2.003422             NaN      10.158371              NaN\n",
       "2     -0.487775             NaN       8.377500              NaN\n",
       "3      3.313658             NaN      12.640277              NaN\n",
       "4     -4.321293             NaN     -27.627608              NaN\n",
       "5     -1.059804             NaN       4.938414              NaN\n",
       "6     -0.022909             NaN       7.057530              NaN\n",
       "7     -8.954954             NaN     -17.096190              NaN\n",
       "8      6.107421             NaN      18.787417              NaN\n",
       "9      2.234030             NaN      14.514971              NaN"
      ],
      "text/html": [
       "<div>\n",
       "<style scoped>\n",
       "    .dataframe tbody tr th:only-of-type {\n",
       "        vertical-align: middle;\n",
       "    }\n",
       "\n",
       "    .dataframe tbody tr th {\n",
       "        vertical-align: top;\n",
       "    }\n",
       "\n",
       "    .dataframe thead th {\n",
       "        text-align: right;\n",
       "    }\n",
       "</style>\n",
       "<table border=\"1\" class=\"dataframe\">\n",
       "  <thead>\n",
       "    <tr style=\"text-align: right;\">\n",
       "      <th></th>\n",
       "      <th>close_return</th>\n",
       "      <th>close_return_z</th>\n",
       "      <th>volume_change</th>\n",
       "      <th>volume_change_z</th>\n",
       "    </tr>\n",
       "  </thead>\n",
       "  <tbody>\n",
       "    <tr>\n",
       "      <th>0</th>\n",
       "      <td>NaN</td>\n",
       "      <td>NaN</td>\n",
       "      <td>NaN</td>\n",
       "      <td>NaN</td>\n",
       "    </tr>\n",
       "    <tr>\n",
       "      <th>1</th>\n",
       "      <td>-2.003422</td>\n",
       "      <td>NaN</td>\n",
       "      <td>10.158371</td>\n",
       "      <td>NaN</td>\n",
       "    </tr>\n",
       "    <tr>\n",
       "      <th>2</th>\n",
       "      <td>-0.487775</td>\n",
       "      <td>NaN</td>\n",
       "      <td>8.377500</td>\n",
       "      <td>NaN</td>\n",
       "    </tr>\n",
       "    <tr>\n",
       "      <th>3</th>\n",
       "      <td>3.313658</td>\n",
       "      <td>NaN</td>\n",
       "      <td>12.640277</td>\n",
       "      <td>NaN</td>\n",
       "    </tr>\n",
       "    <tr>\n",
       "      <th>4</th>\n",
       "      <td>-4.321293</td>\n",
       "      <td>NaN</td>\n",
       "      <td>-27.627608</td>\n",
       "      <td>NaN</td>\n",
       "    </tr>\n",
       "    <tr>\n",
       "      <th>5</th>\n",
       "      <td>-1.059804</td>\n",
       "      <td>NaN</td>\n",
       "      <td>4.938414</td>\n",
       "      <td>NaN</td>\n",
       "    </tr>\n",
       "    <tr>\n",
       "      <th>6</th>\n",
       "      <td>-0.022909</td>\n",
       "      <td>NaN</td>\n",
       "      <td>7.057530</td>\n",
       "      <td>NaN</td>\n",
       "    </tr>\n",
       "    <tr>\n",
       "      <th>7</th>\n",
       "      <td>-8.954954</td>\n",
       "      <td>NaN</td>\n",
       "      <td>-17.096190</td>\n",
       "      <td>NaN</td>\n",
       "    </tr>\n",
       "    <tr>\n",
       "      <th>8</th>\n",
       "      <td>6.107421</td>\n",
       "      <td>NaN</td>\n",
       "      <td>18.787417</td>\n",
       "      <td>NaN</td>\n",
       "    </tr>\n",
       "    <tr>\n",
       "      <th>9</th>\n",
       "      <td>2.234030</td>\n",
       "      <td>NaN</td>\n",
       "      <td>14.514971</td>\n",
       "      <td>NaN</td>\n",
       "    </tr>\n",
       "  </tbody>\n",
       "</table>\n",
       "</div>"
      ]
     },
     "execution_count": 8,
     "metadata": {},
     "output_type": "execute_result"
    }
   ],
   "execution_count": 8
  },
  {
   "cell_type": "markdown",
   "metadata": {},
   "source": [
    "**Storage note:** derived indicators are not written back into the catalog by default. They live in working data frames, feature stores, or parquet exports managed by your pipeline. This keeps the catalog focused on source-of-truth files while engineered views remain versioned separately if needed.\n"
   ],
   "id": "876710c639102664"
  },
  {
   "cell_type": "markdown",
   "metadata": {},
   "source": [
    "## 6. Simple Regression Example\n",
    "\n",
    "To keep the focus on data handling, we fit a minimal linear regression (via `numpy.linalg.lstsq`) that predicts the next-minute return using the engineered features. Any downstream model—Transformers, Chronos, LSTMs—can reuse the same windowed data.\n"
   ],
   "id": "afd9853e2d83481"
  },
  {
   "cell_type": "code",
   "metadata": {
    "ExecuteTime": {
     "end_time": "2025-09-26T19:54:45.946106Z",
     "start_time": "2025-09-26T19:54:45.942322Z"
    }
   },
   "source": [
    "target = feature_frame['log_return'].shift(-1).dropna()\n",
    "features = feature_frame.loc[target.index, ['log_return', 'hl_range_pct', 'close_location', 'sma_15']].fillna(method='bfill')\n",
    "\n",
    "X = np.column_stack([np.ones(len(features)), features.to_numpy()])\n",
    "y = target.to_numpy()\n",
    "\n",
    "coef, *_ = np.linalg.lstsq(X, y, rcond=None)\n",
    "print('Intercept:', coef[0])\n",
    "print('Coefficients:', dict(zip(features.columns, coef[1:])))\n",
    "\n",
    "pred = X @ coef\n",
    "mae = np.mean(np.abs(pred - y))\n",
    "print('MAE:', mae)\n"
   ],
   "id": "4d7d10796baa2d16",
   "outputs": [
    {
     "name": "stdout",
     "output_type": "stream",
     "text": [
      "Intercept: 0.04787527849829896\n",
      "Coefficients: {'log_return': np.float64(-0.06955782255633337), 'hl_range_pct': np.float64(-0.1678304129757145), 'close_location': np.float64(-0.0009579736099580634), 'sma_15': np.float64(-2.6420720905544744e-05)}\n",
      "MAE: 0.002225195352537284\n"
     ]
    },
    {
     "name": "stderr",
     "output_type": "stream",
     "text": [
      "/var/folders/r7/gpyw0j9j5bxfcmd8ydmr2j1w0000gn/T/ipykernel_65813/2556218483.py:2: FutureWarning: DataFrame.fillna with 'method' is deprecated and will raise in a future version. Use obj.ffill() or obj.bfill() instead.\n",
      "  features = feature_frame.loc[target.index, ['log_return', 'hl_range_pct', 'close_location', 'sma_15']].fillna(method='bfill')\n"
     ]
    }
   ],
   "execution_count": 9
  },
  {
   "cell_type": "markdown",
   "metadata": {},
   "source": [
    "## 7. Summary\n",
    "\n",
    "- Catalogs replace hard-coded file paths with named entries, promoting reproducibility and discoverability.\n",
    "- The catalog state is stored in JSON (`catalog.json`) under the chosen root (`TUTORIAL_ROOT`).\n",
    "- Indicators live outside the catalog; compute them after loading so that multiple model families can apply their own transformations.\n",
    "- Apply `ContinuousFeatureBuilder.normalize` only when you need rolling z-scores—raw indicators remain price-derived by default.\n",
    "- Once data is staged, any modelling approach can consume the engineered features—in this tutorial we used a plain linear regression for illustration.\n",
    "\n",
    "Next steps: integrate catalog registration into preprocessing scripts, and layer window generation (`WindowGenerator`) when preparing sequences for sequence models.\n"
   ],
   "id": "46a9b4cea9700869"
  }
 ],
 "metadata": {
  "kernelspec": {
   "display_name": "Python 3",
   "language": "python",
   "name": "python3"
  },
  "language_info": {
   "name": "python",
   "version": "3"
  }
 },
 "nbformat": 4,
 "nbformat_minor": 5
}
