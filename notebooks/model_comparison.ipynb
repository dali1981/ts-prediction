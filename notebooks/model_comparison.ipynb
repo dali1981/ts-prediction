{
 "cells": [
  {
   "cell_type": "markdown",
   "metadata": {},
   "source": [
    "# PatchTST & TFT Benchmark on Synthetic Data\n",
    "\n",
    "This notebook fabricates a tiny OHLCV dataset, stages it through the `trading_transformers` pipeline, and trains two reference backbones:\n",
    "\n",
    "1. The lightweight PatchTST reference implementation.\n",
    "2. The simplified Temporal Fusion Transformer (TFT) backbone.\n",
    "\n",
    "Both runs share the same feature engineering and `DataModule`."
   ],
   "id": "a45e5b6b2c87e61b"
  },
  {
   "cell_type": "code",
   "metadata": {
    "ExecuteTime": {
     "end_time": "2025-09-26T20:48:28.298142Z",
     "start_time": "2025-09-26T20:48:25.238722Z"
    }
   },
   "source": [
    "import logging\n",
    "from pathlib import Path\n",
    "\n",
    "import numpy as np\n",
    "import matplotlib.pyplot as plt\n",
    "import pandas as pd\n",
    "import pytorch_lightning as pl\n",
    "import torch\n",
    "from trading_transformers.features import ContinuousFeatureBuilder, ContinuousFeatureConfig\n",
    "from trading_transformers.logging import configure_logging\n",
    "from trading_transformers.models import (\n",
    "    PatchTSTReference,\n",
    "    PatchTSTReferenceConfig,\n",
    "    TemporalFusionTransformerBackbone,\n",
    "    TemporalFusionTransformerConfig,\n",
    ")\n",
    "from trading_transformers.training.config import DataConfig\n",
    "from trading_transformers.training.datamodule import DataModuleBuilder\n",
    "from trading_transformers.training.lightning import ForecastingModule, OptimizerParams\n",
    "configure_logging(level=logging.INFO)\n",
    "pl.seed_everything(42)\n",
    "torch.set_float32_matmul_precision('medium')\n",
    "plt.rcParams.update({\"figure.figsize\": (8, 4)})\n",
    "plt.rcParams['axes.grid'] = True\n"
   ],
   "id": "771864ff06663534",
   "outputs": [
    {
     "name": "stderr",
     "output_type": "stream",
     "text": [
      "Seed set to 42\n"
     ]
    }
   ],
   "execution_count": 1
  },
  {
   "cell_type": "code",
   "metadata": {
    "ExecuteTime": {
     "end_time": "2025-09-26T20:48:28.355578Z",
     "start_time": "2025-09-26T20:48:28.338854Z"
    }
   },
   "source": [
    "def fabricate_ohlcv(rows: int = 1_000) -> pd.DataFrame:\n",
    "    rng = np.random.default_rng(2025)\n",
    "    index = pd.date_range('2024-01-01', periods=rows, freq='min')\n",
    "    price = 100 + rng.normal(0, 0.3, size=rows).cumsum()\n",
    "    high = price + rng.uniform(0.05, 0.3, size=rows)\n",
    "    low = price - rng.uniform(0.05, 0.3, size=rows)\n",
    "    close = price + rng.uniform(-0.2, 0.2, size=rows)\n",
    "    volume = rng.uniform(800, 1200, size=rows)\n",
    "    return pd.DataFrame({\n",
    "        'timestamp': index,\n",
    "        'open': price,\n",
    "        'high': high,\n",
    "        'low': low,\n",
    "        'close': close,\n",
    "        'volume': volume,\n",
    "    })\n",
    "\n",
    "raw_frame = fabricate_ohlcv()\n",
    "feature_builder = ContinuousFeatureBuilder(ContinuousFeatureConfig(lookback=32))\n",
    "feature_frame = feature_builder.transform(raw_frame).dropna().reset_index(drop=True)\n",
    "feature_frame.head()"
   ],
   "id": "568373d766a33eab",
   "outputs": [
    {
     "data": {
      "text/plain": [
       "            timestamp       open       high        low      close  \\\n",
       "0 2024-01-01 00:31:00  99.072474  99.142706  99.014197  99.102854   \n",
       "1 2024-01-01 00:32:00  99.134611  99.195651  98.953496  99.102083   \n",
       "2 2024-01-01 00:33:00  99.181595  99.247142  99.065959  99.256896   \n",
       "3 2024-01-01 00:34:00  99.415295  99.517434  99.228243  99.250632   \n",
       "4 2024-01-01 00:35:00  99.377370  99.613373  99.078223  99.260064   \n",
       "\n",
       "        volume  close_return  log_return  hl_spread  hl_range_pct  \\\n",
       "0  1038.623254      0.111516    0.001126   0.128509      0.001298   \n",
       "1   809.610245     -0.000771   -0.000008   0.242155      0.002443   \n",
       "2   852.224529      0.154813    0.001561   0.181184      0.001828   \n",
       "3  1134.531890     -0.006264   -0.000063   0.289191      0.002914   \n",
       "4   821.975391      0.009432    0.000095   0.535150      0.005392   \n",
       "\n",
       "   close_to_low  close_location  volume_change  rolling_volatility  dow_sin  \\\n",
       "0      0.088657        0.689889     146.636855            0.003741      0.0   \n",
       "1      0.148587        0.613604    -229.013009            0.003741      0.0   \n",
       "2      0.190937        1.053833      42.614284            0.003748      0.0   \n",
       "3      0.022389        0.077419     282.307361            0.003745      0.0   \n",
       "4      0.181841        0.339794    -312.556499            0.003723      0.0   \n",
       "\n",
       "   dow_cos  \n",
       "0      1.0  \n",
       "1      1.0  \n",
       "2      1.0  \n",
       "3      1.0  \n",
       "4      1.0  "
      ],
      "text/html": [
       "<div>\n",
       "<style scoped>\n",
       "    .dataframe tbody tr th:only-of-type {\n",
       "        vertical-align: middle;\n",
       "    }\n",
       "\n",
       "    .dataframe tbody tr th {\n",
       "        vertical-align: top;\n",
       "    }\n",
       "\n",
       "    .dataframe thead th {\n",
       "        text-align: right;\n",
       "    }\n",
       "</style>\n",
       "<table border=\"1\" class=\"dataframe\">\n",
       "  <thead>\n",
       "    <tr style=\"text-align: right;\">\n",
       "      <th></th>\n",
       "      <th>timestamp</th>\n",
       "      <th>open</th>\n",
       "      <th>high</th>\n",
       "      <th>low</th>\n",
       "      <th>close</th>\n",
       "      <th>volume</th>\n",
       "      <th>close_return</th>\n",
       "      <th>log_return</th>\n",
       "      <th>hl_spread</th>\n",
       "      <th>hl_range_pct</th>\n",
       "      <th>close_to_low</th>\n",
       "      <th>close_location</th>\n",
       "      <th>volume_change</th>\n",
       "      <th>rolling_volatility</th>\n",
       "      <th>dow_sin</th>\n",
       "      <th>dow_cos</th>\n",
       "    </tr>\n",
       "  </thead>\n",
       "  <tbody>\n",
       "    <tr>\n",
       "      <th>0</th>\n",
       "      <td>2024-01-01 00:31:00</td>\n",
       "      <td>99.072474</td>\n",
       "      <td>99.142706</td>\n",
       "      <td>99.014197</td>\n",
       "      <td>99.102854</td>\n",
       "      <td>1038.623254</td>\n",
       "      <td>0.111516</td>\n",
       "      <td>0.001126</td>\n",
       "      <td>0.128509</td>\n",
       "      <td>0.001298</td>\n",
       "      <td>0.088657</td>\n",
       "      <td>0.689889</td>\n",
       "      <td>146.636855</td>\n",
       "      <td>0.003741</td>\n",
       "      <td>0.0</td>\n",
       "      <td>1.0</td>\n",
       "    </tr>\n",
       "    <tr>\n",
       "      <th>1</th>\n",
       "      <td>2024-01-01 00:32:00</td>\n",
       "      <td>99.134611</td>\n",
       "      <td>99.195651</td>\n",
       "      <td>98.953496</td>\n",
       "      <td>99.102083</td>\n",
       "      <td>809.610245</td>\n",
       "      <td>-0.000771</td>\n",
       "      <td>-0.000008</td>\n",
       "      <td>0.242155</td>\n",
       "      <td>0.002443</td>\n",
       "      <td>0.148587</td>\n",
       "      <td>0.613604</td>\n",
       "      <td>-229.013009</td>\n",
       "      <td>0.003741</td>\n",
       "      <td>0.0</td>\n",
       "      <td>1.0</td>\n",
       "    </tr>\n",
       "    <tr>\n",
       "      <th>2</th>\n",
       "      <td>2024-01-01 00:33:00</td>\n",
       "      <td>99.181595</td>\n",
       "      <td>99.247142</td>\n",
       "      <td>99.065959</td>\n",
       "      <td>99.256896</td>\n",
       "      <td>852.224529</td>\n",
       "      <td>0.154813</td>\n",
       "      <td>0.001561</td>\n",
       "      <td>0.181184</td>\n",
       "      <td>0.001828</td>\n",
       "      <td>0.190937</td>\n",
       "      <td>1.053833</td>\n",
       "      <td>42.614284</td>\n",
       "      <td>0.003748</td>\n",
       "      <td>0.0</td>\n",
       "      <td>1.0</td>\n",
       "    </tr>\n",
       "    <tr>\n",
       "      <th>3</th>\n",
       "      <td>2024-01-01 00:34:00</td>\n",
       "      <td>99.415295</td>\n",
       "      <td>99.517434</td>\n",
       "      <td>99.228243</td>\n",
       "      <td>99.250632</td>\n",
       "      <td>1134.531890</td>\n",
       "      <td>-0.006264</td>\n",
       "      <td>-0.000063</td>\n",
       "      <td>0.289191</td>\n",
       "      <td>0.002914</td>\n",
       "      <td>0.022389</td>\n",
       "      <td>0.077419</td>\n",
       "      <td>282.307361</td>\n",
       "      <td>0.003745</td>\n",
       "      <td>0.0</td>\n",
       "      <td>1.0</td>\n",
       "    </tr>\n",
       "    <tr>\n",
       "      <th>4</th>\n",
       "      <td>2024-01-01 00:35:00</td>\n",
       "      <td>99.377370</td>\n",
       "      <td>99.613373</td>\n",
       "      <td>99.078223</td>\n",
       "      <td>99.260064</td>\n",
       "      <td>821.975391</td>\n",
       "      <td>0.009432</td>\n",
       "      <td>0.000095</td>\n",
       "      <td>0.535150</td>\n",
       "      <td>0.005392</td>\n",
       "      <td>0.181841</td>\n",
       "      <td>0.339794</td>\n",
       "      <td>-312.556499</td>\n",
       "      <td>0.003723</td>\n",
       "      <td>0.0</td>\n",
       "      <td>1.0</td>\n",
       "    </tr>\n",
       "  </tbody>\n",
       "</table>\n",
       "</div>"
      ]
     },
     "execution_count": 2,
     "metadata": {},
     "output_type": "execute_result"
    }
   ],
   "execution_count": 2
  },
  {
   "cell_type": "code",
   "metadata": {
    "ExecuteTime": {
     "end_time": "2025-09-26T20:48:28.539767Z",
     "start_time": "2025-09-26T20:48:28.385600Z"
    }
   },
   "source": [
    "feature_frame['log_return'].plot.hist(bins=40, alpha=0.7)\n",
    "plt.title('Log Return Distribution')\n"
   ],
   "id": "b2796fe6a67d6319",
   "outputs": [
    {
     "data": {
      "text/plain": [
       "Text(0.5, 1.0, 'Log Return Distribution')"
      ]
     },
     "execution_count": 3,
     "metadata": {},
     "output_type": "execute_result"
    },
    {
     "data": {
      "text/plain": [
       "<Figure size 800x400 with 1 Axes>"
      ],
      "image/png": "[encoded data removed]"
     },
     "metadata": {},
     "output_type": "display_data",
     "jetTransient": {
      "display_id": null
     }
    }
   ],
   "execution_count": 3
  },
  {
   "cell_type": "code",
   "metadata": {
    "ExecuteTime": {
     "end_time": "2025-09-26T20:48:28.575446Z",
     "start_time": "2025-09-26T20:48:28.569669Z"
    }
   },
   "source": [
    "data_cfg = DataConfig(\n",
    "    source='synthetic',\n",
    "    features=[\n",
    "        'log_return',\n",
    "        'hl_spread',\n",
    "        'hl_range_pct',\n",
    "        'close_location',\n",
    "        'volume_change',\n",
    "        'rolling_volatility',\n",
    "    ],\n",
    "    target='close_return',\n",
    "    lookback=32,\n",
    "    horizon=8,\n",
    "    batch_size=32,\n",
    "    include_future_features=True,\n",
    "    val_fraction=0.1,\n",
    "    test_fraction=0.1,\n",
    ")\n",
    "builder = DataModuleBuilder(data_cfg)\n",
    "datamodule = builder.build_datamodule(feature_frame)\n",
    "datamodule.setup('fit')"
   ],
   "id": "cf9801a7b336c487",
   "outputs": [],
   "execution_count": 4
  },
  {
   "cell_type": "code",
   "metadata": {
    "ExecuteTime": {
     "end_time": "2025-09-26T20:48:28.657578Z",
     "start_time": "2025-09-26T20:48:28.591501Z"
    }
   },
   "source": [
    "feature_frame['rolling_volatility'].plot.hist(bins=40, alpha=0.7)\n",
    "plt.title('Rolling Volatility Distribution')\n"
   ],
   "id": "60e38e7e328df020",
   "outputs": [
    {
     "data": {
      "text/plain": [
       "Text(0.5, 1.0, 'Rolling Volatility Distribution')"
      ]
     },
     "execution_count": 5,
     "metadata": {},
     "output_type": "execute_result"
    },
    {
     "data": {
      "text/plain": [
       "<Figure size 800x400 with 1 Axes>"
      ],
      "image/png": "[encoded data removed]"
     },
     "metadata": {},
     "output_type": "display_data",
     "jetTransient": {
      "display_id": null
     }
    }
   ],
   "execution_count": 5
  },
  {
   "cell_type": "markdown",
   "metadata": {},
   "source": [
    "## PatchTST Reference Run"
   ],
   "id": "bdd7affba395f6a4"
  },
  {
   "cell_type": "code",
   "metadata": {
    "ExecuteTime": {
     "end_time": "2025-09-26T20:48:34.159701Z",
     "start_time": "2025-09-26T20:48:28.667413Z"
    }
   },
   "source": [
    "patch_config = PatchTSTReferenceConfig(\n",
    "    input_dim=len(data_cfg.features),\n",
    "    patch_length=8,\n",
    "    stride=4,\n",
    "    d_model=128,\n",
    "    nheads=8,\n",
    "    depth=4,\n",
    "    dropout=0.2,\n",
    ")\n",
    "patch_model = PatchTSTReference(patch_config)\n",
    "patch_module = ForecastingModule(\n",
    "    backbone=patch_model,\n",
    "    horizon=data_cfg.horizon,\n",
    "    optimizer_params=OptimizerParams(lr=3e-4, weight_decay=1e-4),\n",
    ")\n",
    "trainer_patch = pl.Trainer(\n",
    "    max_epochs=5,\n",
    "    accelerator='cpu',\n",
    "    gradient_clip_val=1.0,\n",
    "    enable_checkpointing=False,\n",
    "    logger=False,\n",
    ")\n",
    "trainer_patch.fit(patch_module, datamodule=datamodule)"
   ],
   "id": "366acc975d3b3ce8",
   "outputs": [
    {
     "name": "stderr",
     "output_type": "stream",
     "text": [
      "/Users/mohamedali/trading_project/models/.venv/lib/python3.13/site-packages/torch/nn/modules/transformer.py:392: UserWarning: enable_nested_tensor is True, but self.use_nested_tensor is False because encoder_layer.norm_first was True\n",
      "  warnings.warn(\n",
      "GPU available: True (mps), used: False\n",
      "TPU available: False, using: 0 TPU cores\n",
      "HPU available: False, using: 0 HPUs\n",
      "/Users/mohamedali/trading_project/models/.venv/lib/python3.13/site-packages/pytorch_lightning/trainer/setup.py:177: GPU available but not used. You can set it by doing `Trainer(accelerator='gpu')`.\n",
      "\n",
      "  | Name     | Type              | Params | Mode \n",
      "-------------------------------------------------------\n",
      "0 | backbone | PatchTSTReference | 799 K  | train\n",
      "1 | head     | Linear            | 1.0 K  | train\n",
      "-------------------------------------------------------\n",
      "800 K     Trainable params\n",
      "0         Non-trainable params\n",
      "800 K     Total params\n",
      "3.203     Total estimated model params size (MB)\n",
      "49        Modules in train mode\n",
      "0         Modules in eval mode\n"
     ]
    },
    {
     "data": {
      "text/plain": [
       "Sanity Checking: |          | 0/? [00:00<?, ?it/s]"
      ],
      "application/vnd.jupyter.widget-view+json": {
       "version_major": 2,
       "version_minor": 0,
       "model_id": "d233a5293e704126a88179b30eb7721f"
      }
     },
     "metadata": {},
     "output_type": "display_data",
     "jetTransient": {
      "display_id": null
     }
    },
    {
     "name": "stderr",
     "output_type": "stream",
     "text": [
      "/Users/mohamedali/trading_project/models/.venv/lib/python3.13/site-packages/pytorch_lightning/trainer/connectors/data_connector.py:433: The 'val_dataloader' does not have many workers which may be a bottleneck. Consider increasing the value of the `num_workers` argument` to `num_workers=9` in the `DataLoader` to improve performance.\n",
      "/Users/mohamedali/trading_project/models/.venv/lib/python3.13/site-packages/pytorch_lightning/trainer/connectors/data_connector.py:433: The 'train_dataloader' does not have many workers which may be a bottleneck. Consider increasing the value of the `num_workers` argument` to `num_workers=9` in the `DataLoader` to improve performance.\n"
     ]
    },
    {
     "data": {
      "text/plain": [
       "Training: |          | 0/? [00:00<?, ?it/s]"
      ],
      "application/vnd.jupyter.widget-view+json": {
       "version_major": 2,
       "version_minor": 0,
       "model_id": "e3f5bd57542e4b2daccf292be93665e2"
      }
     },
     "metadata": {},
     "output_type": "display_data",
     "jetTransient": {
      "display_id": null
     }
    },
    {
     "data": {
      "text/plain": [
       "Validation: |          | 0/? [00:00<?, ?it/s]"
      ],
      "application/vnd.jupyter.widget-view+json": {
       "version_major": 2,
       "version_minor": 0,
       "model_id": "622ae29edef545d6a1cf5f5714866390"
      }
     },
     "metadata": {},
     "output_type": "display_data",
     "jetTransient": {
      "display_id": null
     }
    },
    {
     "data": {
      "text/plain": [
       "Validation: |          | 0/? [00:00<?, ?it/s]"
      ],
      "application/vnd.jupyter.widget-view+json": {
       "version_major": 2,
       "version_minor": 0,
       "model_id": "2956ab6b7056445dae60d7d6ced5bbcd"
      }
     },
     "metadata": {},
     "output_type": "display_data",
     "jetTransient": {
      "display_id": null
     }
    },
    {
     "data": {
      "text/plain": [
       "Validation: |          | 0/? [00:00<?, ?it/s]"
      ],
      "application/vnd.jupyter.widget-view+json": {
       "version_major": 2,
       "version_minor": 0,
       "model_id": "1510e5e0fac54e6889f73f2276fcd8cb"
      }
     },
     "metadata": {},
     "output_type": "display_data",
     "jetTransient": {
      "display_id": null
     }
    },
    {
     "data": {
      "text/plain": [
       "Validation: |          | 0/? [00:00<?, ?it/s]"
      ],
      "application/vnd.jupyter.widget-view+json": {
       "version_major": 2,
       "version_minor": 0,
       "model_id": "8b928a25f7604e72816ab8e0d76bdeea"
      }
     },
     "metadata": {},
     "output_type": "display_data",
     "jetTransient": {
      "display_id": null
     }
    },
    {
     "data": {
      "text/plain": [
       "Validation: |          | 0/? [00:00<?, ?it/s]"
      ],
      "application/vnd.jupyter.widget-view+json": {
       "version_major": 2,
       "version_minor": 0,
       "model_id": "39d3afe650004663b3df3923a6204a50"
      }
     },
     "metadata": {},
     "output_type": "display_data",
     "jetTransient": {
      "display_id": null
     }
    },
    {
     "name": "stderr",
     "output_type": "stream",
     "text": [
      "`Trainer.fit` stopped: `max_epochs=5` reached.\n"
     ]
    }
   ],
   "execution_count": 6
  },
  {
   "cell_type": "markdown",
   "metadata": {},
   "source": [
    "## Temporal Fusion Transformer Run"
   ],
   "id": "de0ff25c4584e532"
  },
  {
   "cell_type": "code",
   "metadata": {
    "ExecuteTime": {
     "end_time": "2025-09-26T20:48:41.982209Z",
     "start_time": "2025-09-26T20:48:34.196300Z"
    }
   },
   "source": [
    "tft_config = TemporalFusionTransformerConfig(\n",
    "    input_dim=len(data_cfg.features),\n",
    "    d_model=128,\n",
    "    nheads=4,\n",
    "    depth=2,\n",
    "    dropout=0.1,\n",
    ")\n",
    "tft_model = TemporalFusionTransformerBackbone(tft_config)\n",
    "tft_module = ForecastingModule(\n",
    "    backbone=tft_model,\n",
    "    horizon=data_cfg.horizon,\n",
    "    optimizer_params=OptimizerParams(lr=3e-4, weight_decay=1e-4),\n",
    ")\n",
    "trainer_tft = pl.Trainer(\n",
    "    max_epochs=5,\n",
    "    accelerator='cpu',\n",
    "    gradient_clip_val=1.0,\n",
    "    enable_checkpointing=False,\n",
    "    logger=False,\n",
    ")\n",
    "trainer_tft.fit(tft_module, datamodule=datamodule)"
   ],
   "id": "2c17115052073c56",
   "outputs": [
    {
     "name": "stderr",
     "output_type": "stream",
     "text": [
      "/Users/mohamedali/trading_project/models/.venv/lib/python3.13/site-packages/torch/nn/modules/transformer.py:392: UserWarning: enable_nested_tensor is True, but self.use_nested_tensor is False because encoder_layer.norm_first was True\n",
      "  warnings.warn(\n",
      "GPU available: True (mps), used: False\n",
      "TPU available: False, using: 0 TPU cores\n",
      "HPU available: False, using: 0 HPUs\n",
      "/Users/mohamedali/trading_project/models/.venv/lib/python3.13/site-packages/pytorch_lightning/trainer/setup.py:177: GPU available but not used. You can set it by doing `Trainer(accelerator='gpu')`.\n",
      "\n",
      "  | Name     | Type                              | Params | Mode \n",
      "-----------------------------------------------------------------------\n",
      "0 | backbone | TemporalFusionTransformerBackbone | 927 K  | train\n",
      "1 | head     | Linear                            | 1.0 K  | train\n",
      "-----------------------------------------------------------------------\n",
      "928 K     Trainable params\n",
      "0         Non-trainable params\n",
      "928 K     Total params\n",
      "3.715     Total estimated model params size (MB)\n",
      "59        Modules in train mode\n",
      "0         Modules in eval mode\n"
     ]
    },
    {
     "data": {
      "text/plain": [
       "Sanity Checking: |          | 0/? [00:00<?, ?it/s]"
      ],
      "application/vnd.jupyter.widget-view+json": {
       "version_major": 2,
       "version_minor": 0,
       "model_id": "b601cbf6704640858fe57c117bbdcff4"
      }
     },
     "metadata": {},
     "output_type": "display_data",
     "jetTransient": {
      "display_id": null
     }
    },
    {
     "name": "stderr",
     "output_type": "stream",
     "text": [
      "/Users/mohamedali/trading_project/models/.venv/lib/python3.13/site-packages/pytorch_lightning/trainer/connectors/data_connector.py:433: The 'val_dataloader' does not have many workers which may be a bottleneck. Consider increasing the value of the `num_workers` argument` to `num_workers=9` in the `DataLoader` to improve performance.\n",
      "/Users/mohamedali/trading_project/models/.venv/lib/python3.13/site-packages/pytorch_lightning/trainer/connectors/data_connector.py:433: The 'train_dataloader' does not have many workers which may be a bottleneck. Consider increasing the value of the `num_workers` argument` to `num_workers=9` in the `DataLoader` to improve performance.\n"
     ]
    },
    {
     "data": {
      "text/plain": [
       "Training: |          | 0/? [00:00<?, ?it/s]"
      ],
      "application/vnd.jupyter.widget-view+json": {
       "version_major": 2,
       "version_minor": 0,
       "model_id": "240e9e0675944d3ba972449a3f00c819"
      }
     },
     "metadata": {},
     "output_type": "display_data",
     "jetTransient": {
      "display_id": null
     }
    },
    {
     "data": {
      "text/plain": [
       "Validation: |          | 0/? [00:00<?, ?it/s]"
      ],
      "application/vnd.jupyter.widget-view+json": {
       "version_major": 2,
       "version_minor": 0,
       "model_id": "3d36054203fa4f73b73087be6570a107"
      }
     },
     "metadata": {},
     "output_type": "display_data",
     "jetTransient": {
      "display_id": null
     }
    },
    {
     "data": {
      "text/plain": [
       "Validation: |          | 0/? [00:00<?, ?it/s]"
      ],
      "application/vnd.jupyter.widget-view+json": {
       "version_major": 2,
       "version_minor": 0,
       "model_id": "6b65b63c5b7441f7ab06a52c6cdbaf97"
      }
     },
     "metadata": {},
     "output_type": "display_data",
     "jetTransient": {
      "display_id": null
     }
    },
    {
     "data": {
      "text/plain": [
       "Validation: |          | 0/? [00:00<?, ?it/s]"
      ],
      "application/vnd.jupyter.widget-view+json": {
       "version_major": 2,
       "version_minor": 0,
       "model_id": "efb28e5d63e74ed3b42096c4e2dc4eee"
      }
     },
     "metadata": {},
     "output_type": "display_data",
     "jetTransient": {
      "display_id": null
     }
    },
    {
     "data": {
      "text/plain": [
       "Validation: |          | 0/? [00:00<?, ?it/s]"
      ],
      "application/vnd.jupyter.widget-view+json": {
       "version_major": 2,
       "version_minor": 0,
       "model_id": "65d67dc830b44a608a478da8a1b68ada"
      }
     },
     "metadata": {},
     "output_type": "display_data",
     "jetTransient": {
      "display_id": null
     }
    },
    {
     "data": {
      "text/plain": [
       "Validation: |          | 0/? [00:00<?, ?it/s]"
      ],
      "application/vnd.jupyter.widget-view+json": {
       "version_major": 2,
       "version_minor": 0,
       "model_id": "06421986caf945cf867f289679c50b34"
      }
     },
     "metadata": {},
     "output_type": "display_data",
     "jetTransient": {
      "display_id": null
     }
    },
    {
     "name": "stderr",
     "output_type": "stream",
     "text": [
      "`Trainer.fit` stopped: `max_epochs=5` reached.\n"
     ]
    }
   ],
   "execution_count": 7
  },
  {
   "cell_type": "markdown",
   "metadata": {},
   "source": [
    "### Quick Metric Peek"
   ],
   "id": "15a6d71a52e95f82"
  },
  {
   "cell_type": "code",
   "metadata": {
    "ExecuteTime": {
     "end_time": "2025-09-26T20:48:42.008554Z",
     "start_time": "2025-09-26T20:48:42.001918Z"
    }
   },
   "source": [
    "patch_metrics = trainer_patch.callback_metrics\n",
    "tft_metrics = trainer_tft.callback_metrics\n",
    "\n",
    "summary = pd.DataFrame(\n",
    "    {\n",
    "        'patchtst_reference': {k: float(v.cpu()) for k, v in patch_metrics.items()},\n",
    "        'temporal_fusion_transformer': {k: float(v.cpu()) for k, v in tft_metrics.items()},\n",
    "    }\n",
    ")\n",
    "summary.round(4)"
   ],
   "id": "d86d5e91b3747f7f",
   "outputs": [
    {
     "data": {
      "text/plain": [
       "                       patchtst_reference  temporal_fusion_transformer\n",
       "train_loss                         0.0951                       0.0865\n",
       "train_mae                          0.2576                       0.2131\n",
       "val_loss                           0.1202                       0.1167\n",
       "val_mae                            0.2749                       0.2691\n",
       "val_rmse                           0.3467                       0.3416\n",
       "val_mape                           1.5580                       1.2293\n",
       "val_bias                           0.0052                       0.0309\n",
       "val_std_ratio                      0.2515                       0.1309\n",
       "val_directional_acc                0.4960                       0.4543\n",
       "val_hit_rate                       0.4960                       0.4543\n",
       "val_corr                          -0.0115                      -0.0461\n",
       "val_long_precision                 0.4655                       0.4385\n",
       "val_short_precision                0.5227                       0.4781\n",
       "train_rmse                         0.3558                       0.3576\n",
       "train_mape                         4.8902                       4.7463\n",
       "train_bias                         0.0055                       0.0005\n",
       "train_std_ratio                    0.3776                       0.3664\n",
       "train_directional_acc              0.5188                       0.5057\n",
       "train_hit_rate                     0.5188                       0.5057\n",
       "train_corr                         0.0360                       0.0091\n",
       "train_long_precision               0.5256                       0.5138\n",
       "train_short_precision              0.5108                       0.4966"
      ],
      "text/html": [
       "<div>\n",
       "<style scoped>\n",
       "    .dataframe tbody tr th:only-of-type {\n",
       "        vertical-align: middle;\n",
       "    }\n",
       "\n",
       "    .dataframe tbody tr th {\n",
       "        vertical-align: top;\n",
       "    }\n",
       "\n",
       "    .dataframe thead th {\n",
       "        text-align: right;\n",
       "    }\n",
       "</style>\n",
       "<table border=\"1\" class=\"dataframe\">\n",
       "  <thead>\n",
       "    <tr style=\"text-align: right;\">\n",
       "      <th></th>\n",
       "      <th>patchtst_reference</th>\n",
       "      <th>temporal_fusion_transformer</th>\n",
       "    </tr>\n",
       "  </thead>\n",
       "  <tbody>\n",
       "    <tr>\n",
       "      <th>train_loss</th>\n",
       "      <td>0.0951</td>\n",
       "      <td>0.0865</td>\n",
       "    </tr>\n",
       "    <tr>\n",
       "      <th>train_mae</th>\n",
       "      <td>0.2576</td>\n",
       "      <td>0.2131</td>\n",
       "    </tr>\n",
       "    <tr>\n",
       "      <th>val_loss</th>\n",
       "      <td>0.1202</td>\n",
       "      <td>0.1167</td>\n",
       "    </tr>\n",
       "    <tr>\n",
       "      <th>val_mae</th>\n",
       "      <td>0.2749</td>\n",
       "      <td>0.2691</td>\n",
       "    </tr>\n",
       "    <tr>\n",
       "      <th>val_rmse</th>\n",
       "      <td>0.3467</td>\n",
       "      <td>0.3416</td>\n",
       "    </tr>\n",
       "    <tr>\n",
       "      <th>val_mape</th>\n",
       "      <td>1.5580</td>\n",
       "      <td>1.2293</td>\n",
       "    </tr>\n",
       "    <tr>\n",
       "      <th>val_bias</th>\n",
       "      <td>0.0052</td>\n",
       "      <td>0.0309</td>\n",
       "    </tr>\n",
       "    <tr>\n",
       "      <th>val_std_ratio</th>\n",
       "      <td>0.2515</td>\n",
       "      <td>0.1309</td>\n",
       "    </tr>\n",
       "    <tr>\n",
       "      <th>val_directional_acc</th>\n",
       "      <td>0.4960</td>\n",
       "      <td>0.4543</td>\n",
       "    </tr>\n",
       "    <tr>\n",
       "      <th>val_hit_rate</th>\n",
       "      <td>0.4960</td>\n",
       "      <td>0.4543</td>\n",
       "    </tr>\n",
       "    <tr>\n",
       "      <th>val_corr</th>\n",
       "      <td>-0.0115</td>\n",
       "      <td>-0.0461</td>\n",
       "    </tr>\n",
       "    <tr>\n",
       "      <th>val_long_precision</th>\n",
       "      <td>0.4655</td>\n",
       "      <td>0.4385</td>\n",
       "    </tr>\n",
       "    <tr>\n",
       "      <th>val_short_precision</th>\n",
       "      <td>0.5227</td>\n",
       "      <td>0.4781</td>\n",
       "    </tr>\n",
       "    <tr>\n",
       "      <th>train_rmse</th>\n",
       "      <td>0.3558</td>\n",
       "      <td>0.3576</td>\n",
       "    </tr>\n",
       "    <tr>\n",
       "      <th>train_mape</th>\n",
       "      <td>4.8902</td>\n",
       "      <td>4.7463</td>\n",
       "    </tr>\n",
       "    <tr>\n",
       "      <th>train_bias</th>\n",
       "      <td>0.0055</td>\n",
       "      <td>0.0005</td>\n",
       "    </tr>\n",
       "    <tr>\n",
       "      <th>train_std_ratio</th>\n",
       "      <td>0.3776</td>\n",
       "      <td>0.3664</td>\n",
       "    </tr>\n",
       "    <tr>\n",
       "      <th>train_directional_acc</th>\n",
       "      <td>0.5188</td>\n",
       "      <td>0.5057</td>\n",
       "    </tr>\n",
       "    <tr>\n",
       "      <th>train_hit_rate</th>\n",
       "      <td>0.5188</td>\n",
       "      <td>0.5057</td>\n",
       "    </tr>\n",
       "    <tr>\n",
       "      <th>train_corr</th>\n",
       "      <td>0.0360</td>\n",
       "      <td>0.0091</td>\n",
       "    </tr>\n",
       "    <tr>\n",
       "      <th>train_long_precision</th>\n",
       "      <td>0.5256</td>\n",
       "      <td>0.5138</td>\n",
       "    </tr>\n",
       "    <tr>\n",
       "      <th>train_short_precision</th>\n",
       "      <td>0.5108</td>\n",
       "      <td>0.4966</td>\n",
       "    </tr>\n",
       "  </tbody>\n",
       "</table>\n",
       "</div>"
      ]
     },
     "execution_count": 8,
     "metadata": {},
     "output_type": "execute_result"
    }
   ],
   "execution_count": 8
  }
 ],
 "metadata": {
  "kernelspec": {
   "display_name": "Python 3",
   "language": "python",
   "name": "python3"
  },
  "language_info": {
   "name": "python"
  }
 },
 "nbformat": 4,
 "nbformat_minor": 5
}
