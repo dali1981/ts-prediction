{
  "cells": [
    {
      "cell_type": "markdown",
      "metadata": {},
      "source": [
        "# Brooks Tokenizer Analytics\n",
        "\n",
        "Quickly explore frequency and co-occurrence statistics for Brooks-style tokens generated from your data.\n"
      ]
    },
    {
      "cell_type": "code",
      "execution_count": null,
      "metadata": {},
      "outputs": [],
      "source": [
        "from transformers.features.tokens import BrooksTokenizer\n",
        "from transformers.tokenizers import BrooksTokenVocabulary, compute_stats, cooccurrence_matrix\n",
        "import pandas as pd\n",
        "\n",
        "# Synthetic OHLCV data for demonstration\n",
        "data = pd.DataFrame({\n",
        "    'open': [100, 101, 102, 101, 100],\n",
        "    'high': [101, 102, 103, 102, 101],\n",
        "    'low': [99, 100, 101, 100, 99],\n",
        "    'close': [100.5, 101.5, 102.5, 101.0, 100.0],\n",
        "})\n",
        "\n",
        "tokenizer = BrooksTokenizer()\n",
        "tokens = tokenizer.transform(data)\n",
        "tokens\n"
      ]
    },
    {
      "cell_type": "code",
      "execution_count": null,
      "metadata": {},
      "outputs": [],
      "source": [
        "# Compute summary stats\n",
        "stats = compute_stats(tokens, top_k=5)\n",
        "stats\n"
      ]
    },
    {
      "cell_type": "code",
      "execution_count": null,
      "metadata": {},
      "outputs": [],
      "source": [
        "# Build sequences (e.g., by grouping batches) and generate co-occurrence matrix\n",
        "sequences = [tokens[:3], tokens[2:]]\n",
        "co_matrix = cooccurrence_matrix(sequences)\n",
        "co_matrix\n"
      ]
    },
    {
      "cell_type": "code",
      "execution_count": null,
      "metadata": {},
      "outputs": [],
      "source": [
        "# Create a vocabulary for downstream models\n",
        "vocab = BrooksTokenVocabulary.from_sequences(tokens)\n",
        "len(vocab.tokens)\n"
      ]
    }
  ],
  "metadata": {
    "kernelspec": {
      "display_name": "Python 3",
      "language": "python",
      "name": "python3"
    },
    "language_info": {
      "file_extension": ".py",
      "mimetype": "text/x-python",
      "name": "python",
      "pygments_lexer": "ipython3",
      "version": "3.10"
    }
  },
  "nbformat": 4,
  "nbformat_minor": 5
}