{
 "cells": [
  {
   "cell_type": "markdown",
   "id": "c42034d5",
   "metadata": {},
   "source": [
    "# Brooks Tokenizer Analytics\n",
    "\n",
    "Quickly explore frequency and co-occurrence statistics for Brooks-style tokens generated from your data.\n"
   ]
  },
  {
   "cell_type": "code",
   "execution_count": null,
   "id": "37f3f490",
   "metadata": {},
   "outputs": [],
   "source": [
    "from trading_transformers.features.tokens import BrooksTokenizer\n",
    "from trading_transformers.tokenizers import BrooksTokenVocabulary, compute_stats, cooccurrence_matrix\n",
    "import pandas as pd\n",
    "\n",
    "# Synthetic OHLCV data for demonstration\n",
    "data = pd.DataFrame({\n",
    "    'open': [100, 101, 102, 101, 100],\n",
    "    'high': [101, 102, 103, 102, 101],\n",
    "    'low': [99, 100, 101, 100, 99],\n",
    "    'close': [100.5, 101.5, 102.5, 101.0, 100.0],\n",
    "})\n",
    "\n",
    "tokenizer = BrooksTokenizer()\n",
    "tokens = tokenizer.transform(data)\n",
    "tokens\n"
   ]
  },
  {
   "cell_type": "code",
   "execution_count": null,
   "id": "69c0617d",
   "metadata": {},
   "outputs": [],
   "source": [
    "# Compute summary stats\n",
    "stats = compute_stats(tokens, top_k=5)\n",
    "stats\n"
   ]
  },
  {
   "cell_type": "code",
   "execution_count": null,
   "id": "80948260",
   "metadata": {},
   "outputs": [],
   "source": [
    "# Build sequences (e.g., by grouping batches) and generate co-occurrence matrix\n",
    "sequences = [tokens[:3], tokens[2:]]\n",
    "co_matrix = cooccurrence_matrix(sequences)\n",
    "co_matrix\n"
   ]
  },
  {
   "cell_type": "code",
   "execution_count": null,
   "id": "18630ca6",
   "metadata": {},
   "outputs": [],
   "source": [
    "# Create a vocabulary for downstream models\n",
    "vocab = BrooksTokenVocabulary.from_sequences(tokens)\n",
    "len(vocab.tokens)\n"
   ]
  }
 ],
 "metadata": {
  "kernelspec": {
   "display_name": "Python 3 (ipykernel)",
   "language": "python",
   "name": "python3"
  },
  "language_info": {
   "codemirror_mode": {
    "name": "ipython",
    "version": 3
   },
   "file_extension": ".py",
   "mimetype": "text/x-python",
   "name": "python",
   "nbconvert_exporter": "python",
   "pygments_lexer": "ipython3",
   "version": "3.13.6"
  }
 },
 "nbformat": 4,
 "nbformat_minor": 5
}
